{
 "cells": [
  {
   "cell_type": "code",
   "execution_count": 1,
   "metadata": {},
   "outputs": [],
   "source": [
    "# Dependencies and Setup\n",
    "# Pandas dependency\n",
    "import pandas as pd\n",
    "\n",
    "# Plotting dependencies\n",
    "import matplotlib.pyplot as plt\n",
    "import numpy as np"
   ]
  },
  {
   "cell_type": "markdown",
   "metadata": {},
   "source": [
    "### Read clean data "
   ]
  },
  {
   "cell_type": "code",
   "execution_count": 2,
   "metadata": {},
   "outputs": [
    {
     "data": {
      "text/html": [
       "<div>\n",
       "<style scoped>\n",
       "    .dataframe tbody tr th:only-of-type {\n",
       "        vertical-align: middle;\n",
       "    }\n",
       "\n",
       "    .dataframe tbody tr th {\n",
       "        vertical-align: top;\n",
       "    }\n",
       "\n",
       "    .dataframe thead th {\n",
       "        text-align: right;\n",
       "    }\n",
       "</style>\n",
       "<table border=\"1\" class=\"dataframe\">\n",
       "  <thead>\n",
       "    <tr style=\"text-align: right;\">\n",
       "      <th></th>\n",
       "      <th>Unnamed: 0</th>\n",
       "      <th>Year</th>\n",
       "      <th>Company</th>\n",
       "      <th>Female %</th>\n",
       "      <th>Male %</th>\n",
       "      <th>% White</th>\n",
       "      <th>% Asian</th>\n",
       "      <th>% Latino</th>\n",
       "      <th>% Black</th>\n",
       "      <th>% Multi</th>\n",
       "      <th>% Other</th>\n",
       "      <th>% Undeclared</th>\n",
       "      <th>Gender Total %</th>\n",
       "      <th>Diversity Total %</th>\n",
       "    </tr>\n",
       "  </thead>\n",
       "  <tbody>\n",
       "    <tr>\n",
       "      <th>0</th>\n",
       "      <td>0</td>\n",
       "      <td>2018</td>\n",
       "      <td>Yahoo!</td>\n",
       "      <td>37.0</td>\n",
       "      <td>63.0</td>\n",
       "      <td>45.0</td>\n",
       "      <td>44.0</td>\n",
       "      <td>4.0</td>\n",
       "      <td>2.0</td>\n",
       "      <td>2.0</td>\n",
       "      <td>3.0</td>\n",
       "      <td>0.0</td>\n",
       "      <td>100.0</td>\n",
       "      <td>100.0</td>\n",
       "    </tr>\n",
       "    <tr>\n",
       "      <th>1</th>\n",
       "      <td>1</td>\n",
       "      <td>2018</td>\n",
       "      <td>Google</td>\n",
       "      <td>31.0</td>\n",
       "      <td>69.0</td>\n",
       "      <td>53.0</td>\n",
       "      <td>36.0</td>\n",
       "      <td>4.0</td>\n",
       "      <td>3.0</td>\n",
       "      <td>4.0</td>\n",
       "      <td>0.0</td>\n",
       "      <td>0.0</td>\n",
       "      <td>100.0</td>\n",
       "      <td>100.0</td>\n",
       "    </tr>\n",
       "    <tr>\n",
       "      <th>2</th>\n",
       "      <td>2</td>\n",
       "      <td>2018</td>\n",
       "      <td>Apple</td>\n",
       "      <td>32.0</td>\n",
       "      <td>68.0</td>\n",
       "      <td>54.0</td>\n",
       "      <td>21.0</td>\n",
       "      <td>13.0</td>\n",
       "      <td>9.0</td>\n",
       "      <td>3.0</td>\n",
       "      <td>1.0</td>\n",
       "      <td>2.0</td>\n",
       "      <td>100.0</td>\n",
       "      <td>103.0</td>\n",
       "    </tr>\n",
       "    <tr>\n",
       "      <th>3</th>\n",
       "      <td>3</td>\n",
       "      <td>2018</td>\n",
       "      <td>Cisco</td>\n",
       "      <td>24.0</td>\n",
       "      <td>76.0</td>\n",
       "      <td>53.0</td>\n",
       "      <td>37.0</td>\n",
       "      <td>5.0</td>\n",
       "      <td>4.0</td>\n",
       "      <td>1.0</td>\n",
       "      <td>0.0</td>\n",
       "      <td>0.0</td>\n",
       "      <td>100.0</td>\n",
       "      <td>100.0</td>\n",
       "    </tr>\n",
       "    <tr>\n",
       "      <th>4</th>\n",
       "      <td>4</td>\n",
       "      <td>2018</td>\n",
       "      <td>eBay</td>\n",
       "      <td>40.0</td>\n",
       "      <td>60.0</td>\n",
       "      <td>50.0</td>\n",
       "      <td>39.0</td>\n",
       "      <td>6.0</td>\n",
       "      <td>3.0</td>\n",
       "      <td>1.0</td>\n",
       "      <td>1.0</td>\n",
       "      <td>0.0</td>\n",
       "      <td>100.0</td>\n",
       "      <td>100.0</td>\n",
       "    </tr>\n",
       "    <tr>\n",
       "      <th>5</th>\n",
       "      <td>5</td>\n",
       "      <td>2018</td>\n",
       "      <td>HP</td>\n",
       "      <td>37.0</td>\n",
       "      <td>63.0</td>\n",
       "      <td>73.0</td>\n",
       "      <td>12.0</td>\n",
       "      <td>8.0</td>\n",
       "      <td>4.0</td>\n",
       "      <td>2.0</td>\n",
       "      <td>0.0</td>\n",
       "      <td>0.0</td>\n",
       "      <td>100.0</td>\n",
       "      <td>99.0</td>\n",
       "    </tr>\n",
       "    <tr>\n",
       "      <th>6</th>\n",
       "      <td>6</td>\n",
       "      <td>2018</td>\n",
       "      <td>Indiegogo</td>\n",
       "      <td>50.0</td>\n",
       "      <td>50.0</td>\n",
       "      <td>58.0</td>\n",
       "      <td>28.0</td>\n",
       "      <td>7.0</td>\n",
       "      <td>4.0</td>\n",
       "      <td>0.0</td>\n",
       "      <td>3.0</td>\n",
       "      <td>0.0</td>\n",
       "      <td>100.0</td>\n",
       "      <td>100.0</td>\n",
       "    </tr>\n",
       "    <tr>\n",
       "      <th>7</th>\n",
       "      <td>7</td>\n",
       "      <td>2018</td>\n",
       "      <td>Nvidia</td>\n",
       "      <td>17.0</td>\n",
       "      <td>83.0</td>\n",
       "      <td>37.0</td>\n",
       "      <td>45.0</td>\n",
       "      <td>3.0</td>\n",
       "      <td>1.0</td>\n",
       "      <td>14.0</td>\n",
       "      <td>0.0</td>\n",
       "      <td>0.0</td>\n",
       "      <td>100.0</td>\n",
       "      <td>100.0</td>\n",
       "    </tr>\n",
       "    <tr>\n",
       "      <th>8</th>\n",
       "      <td>8</td>\n",
       "      <td>2018</td>\n",
       "      <td>Dell</td>\n",
       "      <td>28.0</td>\n",
       "      <td>72.0</td>\n",
       "      <td>69.0</td>\n",
       "      <td>9.0</td>\n",
       "      <td>11.0</td>\n",
       "      <td>10.0</td>\n",
       "      <td>0.0</td>\n",
       "      <td>1.0</td>\n",
       "      <td>0.0</td>\n",
       "      <td>100.0</td>\n",
       "      <td>100.0</td>\n",
       "    </tr>\n",
       "    <tr>\n",
       "      <th>9</th>\n",
       "      <td>9</td>\n",
       "      <td>2018</td>\n",
       "      <td>Ingram Micro</td>\n",
       "      <td>31.0</td>\n",
       "      <td>69.0</td>\n",
       "      <td>52.0</td>\n",
       "      <td>14.0</td>\n",
       "      <td>19.0</td>\n",
       "      <td>14.0</td>\n",
       "      <td>1.0</td>\n",
       "      <td>0.0</td>\n",
       "      <td>0.0</td>\n",
       "      <td>100.0</td>\n",
       "      <td>100.0</td>\n",
       "    </tr>\n",
       "  </tbody>\n",
       "</table>\n",
       "</div>"
      ],
      "text/plain": [
       "   Unnamed: 0  Year       Company  Female %  Male %  % White  % Asian  \\\n",
       "0           0  2018        Yahoo!      37.0    63.0     45.0     44.0   \n",
       "1           1  2018        Google      31.0    69.0     53.0     36.0   \n",
       "2           2  2018         Apple      32.0    68.0     54.0     21.0   \n",
       "3           3  2018         Cisco      24.0    76.0     53.0     37.0   \n",
       "4           4  2018          eBay      40.0    60.0     50.0     39.0   \n",
       "5           5  2018            HP      37.0    63.0     73.0     12.0   \n",
       "6           6  2018     Indiegogo      50.0    50.0     58.0     28.0   \n",
       "7           7  2018        Nvidia      17.0    83.0     37.0     45.0   \n",
       "8           8  2018          Dell      28.0    72.0     69.0      9.0   \n",
       "9           9  2018  Ingram Micro      31.0    69.0     52.0     14.0   \n",
       "\n",
       "   % Latino  % Black  % Multi  % Other  % Undeclared  Gender Total %  \\\n",
       "0       4.0      2.0      2.0      3.0           0.0           100.0   \n",
       "1       4.0      3.0      4.0      0.0           0.0           100.0   \n",
       "2      13.0      9.0      3.0      1.0           2.0           100.0   \n",
       "3       5.0      4.0      1.0      0.0           0.0           100.0   \n",
       "4       6.0      3.0      1.0      1.0           0.0           100.0   \n",
       "5       8.0      4.0      2.0      0.0           0.0           100.0   \n",
       "6       7.0      4.0      0.0      3.0           0.0           100.0   \n",
       "7       3.0      1.0     14.0      0.0           0.0           100.0   \n",
       "8      11.0     10.0      0.0      1.0           0.0           100.0   \n",
       "9      19.0     14.0      1.0      0.0           0.0           100.0   \n",
       "\n",
       "   Diversity Total %  \n",
       "0              100.0  \n",
       "1              100.0  \n",
       "2              103.0  \n",
       "3              100.0  \n",
       "4              100.0  \n",
       "5               99.0  \n",
       "6              100.0  \n",
       "7              100.0  \n",
       "8              100.0  \n",
       "9              100.0  "
      ]
     },
     "execution_count": 2,
     "metadata": {},
     "output_type": "execute_result"
    }
   ],
   "source": [
    "# Load clean data CSV file created in Part 1 into a Pandas DataFrame\n",
    "df = pd.read_csv(\"../Resources/Diversity_in_tech_companies_clean_data.csv\")\n",
    "\n",
    "# Display sample data\n",
    "df.head(10)"
   ]
  },
  {
   "cell_type": "code",
   "execution_count": 3,
   "metadata": {},
   "outputs": [
    {
     "name": "stdout",
     "output_type": "stream",
     "text": [
      "(91, 14)\n",
      "<class 'pandas.core.frame.DataFrame'>\n",
      "RangeIndex: 91 entries, 0 to 90\n",
      "Data columns (total 14 columns):\n",
      " #   Column             Non-Null Count  Dtype  \n",
      "---  ------             --------------  -----  \n",
      " 0   Unnamed: 0         91 non-null     int64  \n",
      " 1   Year               91 non-null     int64  \n",
      " 2   Company            91 non-null     object \n",
      " 3   Female %           91 non-null     float64\n",
      " 4   Male %             91 non-null     float64\n",
      " 5   % White            91 non-null     float64\n",
      " 6   % Asian            91 non-null     float64\n",
      " 7   % Latino           91 non-null     float64\n",
      " 8   % Black            91 non-null     float64\n",
      " 9   % Multi            91 non-null     float64\n",
      " 10  % Other            91 non-null     float64\n",
      " 11  % Undeclared       91 non-null     float64\n",
      " 12  Gender Total %     91 non-null     float64\n",
      " 13  Diversity Total %  91 non-null     float64\n",
      "dtypes: float64(11), int64(2), object(1)\n",
      "memory usage: 10.1+ KB\n",
      "None\n",
      "       Unnamed: 0         Year   Female %     Male %    % White    % Asian  \\\n",
      "count   91.000000    91.000000  91.000000  91.000000  91.000000  91.000000   \n",
      "mean    46.000000  2016.142857  35.406593  64.571429  59.208791  22.637363   \n",
      "std     27.448943     1.434274   9.553333   9.570955   9.905685  11.994922   \n",
      "min      0.000000  2014.000000  16.000000  46.000000  37.000000   0.000000   \n",
      "25%     22.500000  2015.000000  29.000000  57.000000  52.500000  12.500000   \n",
      "50%     46.000000  2016.000000  36.000000  64.000000  60.000000  22.000000   \n",
      "75%     69.500000  2017.000000  43.000000  71.000000  66.000000  31.000000   \n",
      "max     93.000000  2018.000000  54.000000  84.000000  79.000000  45.000000   \n",
      "\n",
      "        % Latino    % Black    % Multi    % Other  % Undeclared  \\\n",
      "count  91.000000  91.000000  91.000000  91.000000     91.000000   \n",
      "mean    7.263736   5.461538   2.329670   1.241758      0.428571   \n",
      "std     4.057463   4.316139   3.283139   1.344459      1.795939   \n",
      "min     0.000000   0.000000   0.000000   0.000000      0.000000   \n",
      "25%     4.000000   2.000000   0.000000   0.000000      0.000000   \n",
      "50%     6.000000   4.000000   1.000000   1.000000      0.000000   \n",
      "75%     9.000000   8.000000   3.000000   2.000000      0.000000   \n",
      "max    19.000000  21.000000  14.000000   5.000000     13.000000   \n",
      "\n",
      "       Gender Total %  Diversity Total %  \n",
      "count       91.000000          91.000000  \n",
      "mean        99.978022          98.571429  \n",
      "std          0.209657           8.306815  \n",
      "min         99.000000          54.000000  \n",
      "25%        100.000000         100.000000  \n",
      "50%        100.000000         100.000000  \n",
      "75%        100.000000         100.000000  \n",
      "max        101.000000         103.000000  \n"
     ]
    }
   ],
   "source": [
    "# Examine data and datatypes\n",
    "print(df.shape)\n",
    "print(df.info())\n",
    "print(df.describe())"
   ]
  },
  {
   "cell_type": "markdown",
   "metadata": {},
   "source": [
    "## Standarize colors on all charts"
   ]
  },
  {
   "cell_type": "code",
   "execution_count": 4,
   "metadata": {},
   "outputs": [],
   "source": [
    "diversity_colors = {'% White':'#EC111A', \n",
    "          '% Asian':'#F2609E', \n",
    "          '% Black':'#FFD42F', \n",
    "          '% Latino':'#138468', \n",
    "          '% Multi':'#009DD6', \n",
    "          '% Other':'#FB6330', \n",
    "          '% Undeclared':'#7849B8'}\n",
    "gender_colors = ['lightblue', 'pink']"
   ]
  },
  {
   "cell_type": "markdown",
   "metadata": {},
   "source": [
    "## Question 2: What percentage of Males vs Females in the tech workplace?"
   ]
  },
  {
   "cell_type": "code",
   "execution_count": 5,
   "metadata": {},
   "outputs": [
    {
     "data": {
      "text/html": [
       "<div>\n",
       "<style scoped>\n",
       "    .dataframe tbody tr th:only-of-type {\n",
       "        vertical-align: middle;\n",
       "    }\n",
       "\n",
       "    .dataframe tbody tr th {\n",
       "        vertical-align: top;\n",
       "    }\n",
       "\n",
       "    .dataframe thead th {\n",
       "        text-align: right;\n",
       "    }\n",
       "</style>\n",
       "<table border=\"1\" class=\"dataframe\">\n",
       "  <thead>\n",
       "    <tr style=\"text-align: right;\">\n",
       "      <th></th>\n",
       "      <th>Year</th>\n",
       "      <th>Male %</th>\n",
       "    </tr>\n",
       "  </thead>\n",
       "  <tbody>\n",
       "    <tr>\n",
       "      <th>0</th>\n",
       "      <td>2014</td>\n",
       "      <td>65.937500</td>\n",
       "    </tr>\n",
       "    <tr>\n",
       "      <th>1</th>\n",
       "      <td>2015</td>\n",
       "      <td>64.882353</td>\n",
       "    </tr>\n",
       "    <tr>\n",
       "      <th>2</th>\n",
       "      <td>2016</td>\n",
       "      <td>64.722222</td>\n",
       "    </tr>\n",
       "    <tr>\n",
       "      <th>3</th>\n",
       "      <td>2017</td>\n",
       "      <td>65.000000</td>\n",
       "    </tr>\n",
       "    <tr>\n",
       "      <th>4</th>\n",
       "      <td>2018</td>\n",
       "      <td>62.863636</td>\n",
       "    </tr>\n",
       "  </tbody>\n",
       "</table>\n",
       "</div>"
      ],
      "text/plain": [
       "   Year     Male %\n",
       "0  2014  65.937500\n",
       "1  2015  64.882353\n",
       "2  2016  64.722222\n",
       "3  2017  65.000000\n",
       "4  2018  62.863636"
      ]
     },
     "execution_count": 5,
     "metadata": {},
     "output_type": "execute_result"
    }
   ],
   "source": [
    "df.groupby([\"Company\",\"Year\"])\n",
    "average_male = df.groupby('Year')['Male %'].mean()\n",
    "\n",
    "average_male_df = pd.DataFrame(average_male).reset_index()\n",
    "\n",
    "average_male_df"
   ]
  },
  {
   "cell_type": "code",
   "execution_count": 6,
   "metadata": {},
   "outputs": [
    {
     "data": {
      "text/html": [
       "<div>\n",
       "<style scoped>\n",
       "    .dataframe tbody tr th:only-of-type {\n",
       "        vertical-align: middle;\n",
       "    }\n",
       "\n",
       "    .dataframe tbody tr th {\n",
       "        vertical-align: top;\n",
       "    }\n",
       "\n",
       "    .dataframe thead th {\n",
       "        text-align: right;\n",
       "    }\n",
       "</style>\n",
       "<table border=\"1\" class=\"dataframe\">\n",
       "  <thead>\n",
       "    <tr style=\"text-align: right;\">\n",
       "      <th></th>\n",
       "      <th>Year</th>\n",
       "      <th>Female %</th>\n",
       "    </tr>\n",
       "  </thead>\n",
       "  <tbody>\n",
       "    <tr>\n",
       "      <th>0</th>\n",
       "      <td>2014</td>\n",
       "      <td>34.000000</td>\n",
       "    </tr>\n",
       "    <tr>\n",
       "      <th>1</th>\n",
       "      <td>2015</td>\n",
       "      <td>35.058824</td>\n",
       "    </tr>\n",
       "    <tr>\n",
       "      <th>2</th>\n",
       "      <td>2016</td>\n",
       "      <td>35.222222</td>\n",
       "    </tr>\n",
       "    <tr>\n",
       "      <th>3</th>\n",
       "      <td>2017</td>\n",
       "      <td>35.000000</td>\n",
       "    </tr>\n",
       "    <tr>\n",
       "      <th>4</th>\n",
       "      <td>2018</td>\n",
       "      <td>37.181818</td>\n",
       "    </tr>\n",
       "  </tbody>\n",
       "</table>\n",
       "</div>"
      ],
      "text/plain": [
       "   Year   Female %\n",
       "0  2014  34.000000\n",
       "1  2015  35.058824\n",
       "2  2016  35.222222\n",
       "3  2017  35.000000\n",
       "4  2018  37.181818"
      ]
     },
     "execution_count": 6,
     "metadata": {},
     "output_type": "execute_result"
    }
   ],
   "source": [
    "average_female = df.groupby('Year')['Female %'].mean()\n",
    "\n",
    "average_female_df = pd.DataFrame(average_female).reset_index()\n",
    "\n",
    "average_female_df"
   ]
  },
  {
   "cell_type": "code",
   "execution_count": 7,
   "metadata": {},
   "outputs": [
    {
     "data": {
      "text/html": [
       "<div>\n",
       "<style scoped>\n",
       "    .dataframe tbody tr th:only-of-type {\n",
       "        vertical-align: middle;\n",
       "    }\n",
       "\n",
       "    .dataframe tbody tr th {\n",
       "        vertical-align: top;\n",
       "    }\n",
       "\n",
       "    .dataframe thead th {\n",
       "        text-align: right;\n",
       "    }\n",
       "</style>\n",
       "<table border=\"1\" class=\"dataframe\">\n",
       "  <thead>\n",
       "    <tr style=\"text-align: right;\">\n",
       "      <th></th>\n",
       "      <th>Year</th>\n",
       "      <th>Male %</th>\n",
       "      <th>Female %</th>\n",
       "    </tr>\n",
       "  </thead>\n",
       "  <tbody>\n",
       "    <tr>\n",
       "      <th>0</th>\n",
       "      <td>2014</td>\n",
       "      <td>66.0</td>\n",
       "      <td>34.0</td>\n",
       "    </tr>\n",
       "    <tr>\n",
       "      <th>1</th>\n",
       "      <td>2015</td>\n",
       "      <td>65.0</td>\n",
       "      <td>35.0</td>\n",
       "    </tr>\n",
       "    <tr>\n",
       "      <th>2</th>\n",
       "      <td>2016</td>\n",
       "      <td>65.0</td>\n",
       "      <td>35.0</td>\n",
       "    </tr>\n",
       "    <tr>\n",
       "      <th>3</th>\n",
       "      <td>2017</td>\n",
       "      <td>65.0</td>\n",
       "      <td>35.0</td>\n",
       "    </tr>\n",
       "    <tr>\n",
       "      <th>4</th>\n",
       "      <td>2018</td>\n",
       "      <td>63.0</td>\n",
       "      <td>37.0</td>\n",
       "    </tr>\n",
       "  </tbody>\n",
       "</table>\n",
       "</div>"
      ],
      "text/plain": [
       "   Year  Male %  Female %\n",
       "0  2014    66.0      34.0\n",
       "1  2015    65.0      35.0\n",
       "2  2016    65.0      35.0\n",
       "3  2017    65.0      35.0\n",
       "4  2018    63.0      37.0"
      ]
     },
     "execution_count": 7,
     "metadata": {},
     "output_type": "execute_result"
    }
   ],
   "source": [
    "average_merge = pd.merge(average_male_df, average_female_df, on ='Year').round()\n",
    "average_merge"
   ]
  },
  {
   "cell_type": "code",
   "execution_count": 8,
   "metadata": {},
   "outputs": [
    {
     "data": {
      "text/plain": [
       "64.8"
      ]
     },
     "execution_count": 8,
     "metadata": {},
     "output_type": "execute_result"
    }
   ],
   "source": [
    "average_merge['Male %'].mean()"
   ]
  },
  {
   "cell_type": "code",
   "execution_count": 9,
   "metadata": {},
   "outputs": [
    {
     "data": {
      "image/png": "[encoded data removed]",
      "text/plain": [
       "<Figure size 640x480 with 1 Axes>"
      ]
     },
     "metadata": {},
     "output_type": "display_data"
    }
   ],
   "source": [
    "# Data for males and females\n",
    "labels = ['Males', 'Females']\n",
    "sizes = [average_merge['Male %'].mean(), average_merge['Female %'].mean()]  # percentages for males and females\n",
    "\n",
    "fig1, ax1 = plt.subplots()\n",
    "ax1.pie(sizes, labels=labels, autopct='%1.1f%%', startangle=90, colors=gender_colors)\n",
    "\n",
    "# Draw a white circle at the center to create a donut chart\n",
    "centre_circle = plt.Circle((0,0),0.70,fc='white')\n",
    "fig = plt.gcf()\n",
    "fig.gca().add_artist(centre_circle)\n",
    "\n",
    "# Equal aspect ratio ensures that pie is drawn as a circle.\n",
    "ax1.axis('equal')  \n",
    "\n",
    "plt.title('Males vs Females  2014')\n",
    "plt.show()"
   ]
  },
  {
   "cell_type": "code",
   "execution_count": 10,
   "metadata": {},
   "outputs": [
    {
     "data": {
      "image/png": "[encoded data removed]",
      "text/plain": [
       "<Figure size 640x480 with 1 Axes>"
      ]
     },
     "metadata": {},
     "output_type": "display_data"
    }
   ],
   "source": [
    "# Data for the years 2014 and 2015\n",
    "years = average_merge['Year']\n",
    "males_percent = average_merge['Male %']\n",
    "females_percent = average_merge['Female %']\n",
    "\n",
    "# Create a bar chart\n",
    "plt.bar(years, males_percent, color=gender_colors[0], label='Males')\n",
    "plt.bar(years, females_percent, color=gender_colors[1], bottom=males_percent, label='Females')\n",
    "\n",
    "# Add labels for the percentages\n",
    "for i, year in enumerate(years):\n",
    "    plt.text(year, males_percent[i] / 2, f\"{males_percent[i]}%\", ha='center', va='center', color='black')\n",
    "    plt.text(year, males_percent[i] + females_percent[i] / 2, f\"{females_percent[i]}%\", ha='center', va='center', color='black')\n",
    "\n",
    "# Add labels and title\n",
    "plt.xlabel('Year')\n",
    "plt.ylabel('Percentage')\n",
    "plt.title('Percentage of Males and Females by Year')\n",
    "plt.xticks(years)\n",
    "plt.legend(loc = (1.02, 0.45))\n",
    "\n",
    "# Show the plot\n",
    "plt.show()"
   ]
  },
  {
   "cell_type": "code",
   "execution_count": 11,
   "metadata": {},
   "outputs": [
    {
     "data": {
      "image/png": "[encoded data removed]",
      "text/plain": [
       "<Figure size 1000x600 with 1 Axes>"
      ]
     },
     "metadata": {},
     "output_type": "display_data"
    }
   ],
   "source": [
    "# Data for the years 2014 and 2015\n",
    "years = average_merge['Year']\n",
    "males_percent = average_merge['Male %']\n",
    "females_percent = average_merge['Female %']\n",
    "\n",
    "# Set the width of the bars\n",
    "bar_width = 0.35\n",
    "plt.figure(figsize=(10, 6))\n",
    "\n",
    "# Set the position of the bars on the x-axis\n",
    "r1 = np.arange(len(years))\n",
    "r2 = [x + bar_width for x in r1]\n",
    "\n",
    "# Create a bar chart with bars next to each other\n",
    "plt.bar(r1, males_percent, color=gender_colors[0], width=bar_width, edgecolor='grey', label='Males')\n",
    "plt.bar(r2, females_percent, color=gender_colors[1], width=bar_width, edgecolor='grey', label='Females')\n",
    "\n",
    "# Add labels for the percentages\n",
    "for i in range(len(years)):\n",
    "    plt.text(r1[i], males_percent[i] + 1, f\"{males_percent[i]}%\", ha='center', va='bottom', color='black')\n",
    "    plt.text(r2[i], females_percent[i] + 1, f\"{females_percent[i]}%\", ha='center', va='bottom', color='black')\n",
    "\n",
    "# Add labels and title\n",
    "plt.xlabel('Year')\n",
    "plt.ylabel('Males vs Females')\n",
    "plt.title('Percentage of Males vs Females by Year')\n",
    "plt.xticks([r + bar_width/2 for r in range(len(years))], years)\n",
    "plt.legend(loc = (1.02, 0.45))\n",
    "plt.ylim(0, 70)\n",
    "\n",
    "\n",
    "# Show the plot\n",
    "plt.show()"
   ]
  },
  {
   "cell_type": "code",
   "execution_count": 12,
   "metadata": {},
   "outputs": [
    {
     "data": {
      "text/plain": [
       "64.8"
      ]
     },
     "execution_count": 12,
     "metadata": {},
     "output_type": "execute_result"
    }
   ],
   "source": [
    "males_average = average_merge[\"Male %\"].mean()\n",
    "males_average"
   ]
  },
  {
   "cell_type": "code",
   "execution_count": 13,
   "metadata": {},
   "outputs": [
    {
     "data": {
      "text/plain": [
       "35.2"
      ]
     },
     "execution_count": 13,
     "metadata": {},
     "output_type": "execute_result"
    }
   ],
   "source": [
    "females_average = average_merge[\"Female %\"].mean()\n",
    "females_average"
   ]
  },
  {
   "cell_type": "code",
   "execution_count": 14,
   "metadata": {},
   "outputs": [
    {
     "data": {
      "text/html": [
       "<div>\n",
       "<style scoped>\n",
       "    .dataframe tbody tr th:only-of-type {\n",
       "        vertical-align: middle;\n",
       "    }\n",
       "\n",
       "    .dataframe tbody tr th {\n",
       "        vertical-align: top;\n",
       "    }\n",
       "\n",
       "    .dataframe thead th {\n",
       "        text-align: right;\n",
       "    }\n",
       "</style>\n",
       "<table border=\"1\" class=\"dataframe\">\n",
       "  <thead>\n",
       "    <tr style=\"text-align: right;\">\n",
       "      <th></th>\n",
       "      <th>Male %</th>\n",
       "      <th>Female %</th>\n",
       "    </tr>\n",
       "  </thead>\n",
       "  <tbody>\n",
       "    <tr>\n",
       "      <th>0</th>\n",
       "      <td>65.0</td>\n",
       "      <td>35.0</td>\n",
       "    </tr>\n",
       "  </tbody>\n",
       "</table>\n",
       "</div>"
      ],
      "text/plain": [
       "   Male %  Female %\n",
       "0    65.0      35.0"
      ]
     },
     "execution_count": 14,
     "metadata": {},
     "output_type": "execute_result"
    }
   ],
   "source": [
    "data = {\n",
    "    \"Male %\": [males_average],\n",
    "    \"Female %\": [females_average]\n",
    "    }\n",
    "\n",
    "total_df = pd.DataFrame(data).round()\n",
    "\n",
    "total_df"
   ]
  },
  {
   "cell_type": "code",
   "execution_count": 15,
   "metadata": {},
   "outputs": [
    {
     "data": {
      "image/png": "[encoded data removed]",
      "text/plain": [
       "<Figure size 640x480 with 1 Axes>"
      ]
     },
     "metadata": {},
     "output_type": "display_data"
    }
   ],
   "source": [
    "# Data for males and females\n",
    "labels = ['Male %', 'Female %']\n",
    "sizes = [males_average, females_average]  # percentages for males and females\n",
    "\n",
    "fig1, ax1 = plt.subplots()\n",
    "ax1.pie(sizes, labels=labels, autopct='%1.1f%%', startangle=90, colors=gender_colors)\n",
    "\n",
    "# Draw a white circle at the center to create a donut chart\n",
    "centre_circle = plt.Circle((0,0),0.80,fc='white')\n",
    "fig = plt.gcf()\n",
    "fig.gca().add_artist(centre_circle)\n",
    "\n",
    "# Equal aspect ratio ensures that pie is drawn as a circle.\n",
    "ax1.axis('equal')  \n",
    "\n",
    "plt.title('Average percentage of Males vs Females 2014-2018')\n",
    "plt.show()"
   ]
  },
  {
   "cell_type": "code",
   "execution_count": null,
   "metadata": {},
   "outputs": [],
   "source": []
  }
 ],
 "metadata": {
  "kernelspec": {
   "display_name": "dev",
   "language": "python",
   "name": "python3"
  },
  "language_info": {
   "codemirror_mode": {
    "name": "ipython",
    "version": 3
   },
   "file_extension": ".py",
   "mimetype": "text/x-python",
   "name": "python",
   "nbconvert_exporter": "python",
   "pygments_lexer": "ipython3",
   "version": "3.10.14"
  }
 },
 "nbformat": 4,
 "nbformat_minor": 2
}
