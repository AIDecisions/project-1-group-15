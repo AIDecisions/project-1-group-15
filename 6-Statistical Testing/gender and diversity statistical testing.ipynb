{
 "cells": [
  {
   "cell_type": "code",
   "execution_count": 1,
   "metadata": {},
   "outputs": [],
   "source": [
    "# Dependencies and Setup\n",
    "# Pandas dependency\n",
    "import pandas as pd\n",
    "\n",
    "# Plotting dependencies\n",
    "import matplotlib.pyplot as plt\n",
    "import seaborn as sns\n",
    "\n",
    "# Linear regression dependencies and statistical dependencies\n",
    "import scipy.stats as stats"
   ]
  },
  {
   "cell_type": "code",
   "execution_count": 2,
   "metadata": {},
   "outputs": [
    {
     "data": {
      "text/html": [
       "<div>\n",
       "<style scoped>\n",
       "    .dataframe tbody tr th:only-of-type {\n",
       "        vertical-align: middle;\n",
       "    }\n",
       "\n",
       "    .dataframe tbody tr th {\n",
       "        vertical-align: top;\n",
       "    }\n",
       "\n",
       "    .dataframe thead th {\n",
       "        text-align: right;\n",
       "    }\n",
       "</style>\n",
       "<table border=\"1\" class=\"dataframe\">\n",
       "  <thead>\n",
       "    <tr style=\"text-align: right;\">\n",
       "      <th></th>\n",
       "      <th>Unnamed: 0</th>\n",
       "      <th>Year</th>\n",
       "      <th>Company</th>\n",
       "      <th>Female %</th>\n",
       "      <th>Male %</th>\n",
       "      <th>% White</th>\n",
       "      <th>% Asian</th>\n",
       "      <th>% Latino</th>\n",
       "      <th>% Black</th>\n",
       "      <th>% Multi</th>\n",
       "      <th>% Other</th>\n",
       "      <th>% Undeclared</th>\n",
       "      <th>Gender Total %</th>\n",
       "      <th>Diversity Total %</th>\n",
       "    </tr>\n",
       "  </thead>\n",
       "  <tbody>\n",
       "    <tr>\n",
       "      <th>0</th>\n",
       "      <td>0</td>\n",
       "      <td>2018</td>\n",
       "      <td>Yahoo!</td>\n",
       "      <td>37.0</td>\n",
       "      <td>63.0</td>\n",
       "      <td>45.0</td>\n",
       "      <td>44.0</td>\n",
       "      <td>4.0</td>\n",
       "      <td>2.0</td>\n",
       "      <td>2.0</td>\n",
       "      <td>3.0</td>\n",
       "      <td>0.0</td>\n",
       "      <td>100.0</td>\n",
       "      <td>100.0</td>\n",
       "    </tr>\n",
       "    <tr>\n",
       "      <th>1</th>\n",
       "      <td>1</td>\n",
       "      <td>2018</td>\n",
       "      <td>Google</td>\n",
       "      <td>31.0</td>\n",
       "      <td>69.0</td>\n",
       "      <td>53.0</td>\n",
       "      <td>36.0</td>\n",
       "      <td>4.0</td>\n",
       "      <td>3.0</td>\n",
       "      <td>4.0</td>\n",
       "      <td>0.0</td>\n",
       "      <td>0.0</td>\n",
       "      <td>100.0</td>\n",
       "      <td>100.0</td>\n",
       "    </tr>\n",
       "    <tr>\n",
       "      <th>2</th>\n",
       "      <td>2</td>\n",
       "      <td>2018</td>\n",
       "      <td>Apple</td>\n",
       "      <td>32.0</td>\n",
       "      <td>68.0</td>\n",
       "      <td>54.0</td>\n",
       "      <td>21.0</td>\n",
       "      <td>13.0</td>\n",
       "      <td>9.0</td>\n",
       "      <td>3.0</td>\n",
       "      <td>1.0</td>\n",
       "      <td>2.0</td>\n",
       "      <td>100.0</td>\n",
       "      <td>103.0</td>\n",
       "    </tr>\n",
       "    <tr>\n",
       "      <th>3</th>\n",
       "      <td>3</td>\n",
       "      <td>2018</td>\n",
       "      <td>Cisco</td>\n",
       "      <td>24.0</td>\n",
       "      <td>76.0</td>\n",
       "      <td>53.0</td>\n",
       "      <td>37.0</td>\n",
       "      <td>5.0</td>\n",
       "      <td>4.0</td>\n",
       "      <td>1.0</td>\n",
       "      <td>0.0</td>\n",
       "      <td>0.0</td>\n",
       "      <td>100.0</td>\n",
       "      <td>100.0</td>\n",
       "    </tr>\n",
       "    <tr>\n",
       "      <th>4</th>\n",
       "      <td>4</td>\n",
       "      <td>2018</td>\n",
       "      <td>eBay</td>\n",
       "      <td>40.0</td>\n",
       "      <td>60.0</td>\n",
       "      <td>50.0</td>\n",
       "      <td>39.0</td>\n",
       "      <td>6.0</td>\n",
       "      <td>3.0</td>\n",
       "      <td>1.0</td>\n",
       "      <td>1.0</td>\n",
       "      <td>0.0</td>\n",
       "      <td>100.0</td>\n",
       "      <td>100.0</td>\n",
       "    </tr>\n",
       "    <tr>\n",
       "      <th>5</th>\n",
       "      <td>5</td>\n",
       "      <td>2018</td>\n",
       "      <td>HP</td>\n",
       "      <td>37.0</td>\n",
       "      <td>63.0</td>\n",
       "      <td>73.0</td>\n",
       "      <td>12.0</td>\n",
       "      <td>8.0</td>\n",
       "      <td>4.0</td>\n",
       "      <td>2.0</td>\n",
       "      <td>0.0</td>\n",
       "      <td>0.0</td>\n",
       "      <td>100.0</td>\n",
       "      <td>99.0</td>\n",
       "    </tr>\n",
       "    <tr>\n",
       "      <th>6</th>\n",
       "      <td>6</td>\n",
       "      <td>2018</td>\n",
       "      <td>Indiegogo</td>\n",
       "      <td>50.0</td>\n",
       "      <td>50.0</td>\n",
       "      <td>58.0</td>\n",
       "      <td>28.0</td>\n",
       "      <td>7.0</td>\n",
       "      <td>4.0</td>\n",
       "      <td>0.0</td>\n",
       "      <td>3.0</td>\n",
       "      <td>0.0</td>\n",
       "      <td>100.0</td>\n",
       "      <td>100.0</td>\n",
       "    </tr>\n",
       "    <tr>\n",
       "      <th>7</th>\n",
       "      <td>7</td>\n",
       "      <td>2018</td>\n",
       "      <td>Nvidia</td>\n",
       "      <td>17.0</td>\n",
       "      <td>83.0</td>\n",
       "      <td>37.0</td>\n",
       "      <td>45.0</td>\n",
       "      <td>3.0</td>\n",
       "      <td>1.0</td>\n",
       "      <td>14.0</td>\n",
       "      <td>0.0</td>\n",
       "      <td>0.0</td>\n",
       "      <td>100.0</td>\n",
       "      <td>100.0</td>\n",
       "    </tr>\n",
       "    <tr>\n",
       "      <th>8</th>\n",
       "      <td>8</td>\n",
       "      <td>2018</td>\n",
       "      <td>Dell</td>\n",
       "      <td>28.0</td>\n",
       "      <td>72.0</td>\n",
       "      <td>69.0</td>\n",
       "      <td>9.0</td>\n",
       "      <td>11.0</td>\n",
       "      <td>10.0</td>\n",
       "      <td>0.0</td>\n",
       "      <td>1.0</td>\n",
       "      <td>0.0</td>\n",
       "      <td>100.0</td>\n",
       "      <td>100.0</td>\n",
       "    </tr>\n",
       "    <tr>\n",
       "      <th>9</th>\n",
       "      <td>9</td>\n",
       "      <td>2018</td>\n",
       "      <td>Ingram Micro</td>\n",
       "      <td>31.0</td>\n",
       "      <td>69.0</td>\n",
       "      <td>52.0</td>\n",
       "      <td>14.0</td>\n",
       "      <td>19.0</td>\n",
       "      <td>14.0</td>\n",
       "      <td>1.0</td>\n",
       "      <td>0.0</td>\n",
       "      <td>0.0</td>\n",
       "      <td>100.0</td>\n",
       "      <td>100.0</td>\n",
       "    </tr>\n",
       "  </tbody>\n",
       "</table>\n",
       "</div>"
      ],
      "text/plain": [
       "   Unnamed: 0  Year       Company  Female %  Male %  % White  % Asian  \\\n",
       "0           0  2018        Yahoo!      37.0    63.0     45.0     44.0   \n",
       "1           1  2018        Google      31.0    69.0     53.0     36.0   \n",
       "2           2  2018         Apple      32.0    68.0     54.0     21.0   \n",
       "3           3  2018         Cisco      24.0    76.0     53.0     37.0   \n",
       "4           4  2018          eBay      40.0    60.0     50.0     39.0   \n",
       "5           5  2018            HP      37.0    63.0     73.0     12.0   \n",
       "6           6  2018     Indiegogo      50.0    50.0     58.0     28.0   \n",
       "7           7  2018        Nvidia      17.0    83.0     37.0     45.0   \n",
       "8           8  2018          Dell      28.0    72.0     69.0      9.0   \n",
       "9           9  2018  Ingram Micro      31.0    69.0     52.0     14.0   \n",
       "\n",
       "   % Latino  % Black  % Multi  % Other  % Undeclared  Gender Total %  \\\n",
       "0       4.0      2.0      2.0      3.0           0.0           100.0   \n",
       "1       4.0      3.0      4.0      0.0           0.0           100.0   \n",
       "2      13.0      9.0      3.0      1.0           2.0           100.0   \n",
       "3       5.0      4.0      1.0      0.0           0.0           100.0   \n",
       "4       6.0      3.0      1.0      1.0           0.0           100.0   \n",
       "5       8.0      4.0      2.0      0.0           0.0           100.0   \n",
       "6       7.0      4.0      0.0      3.0           0.0           100.0   \n",
       "7       3.0      1.0     14.0      0.0           0.0           100.0   \n",
       "8      11.0     10.0      0.0      1.0           0.0           100.0   \n",
       "9      19.0     14.0      1.0      0.0           0.0           100.0   \n",
       "\n",
       "   Diversity Total %  \n",
       "0              100.0  \n",
       "1              100.0  \n",
       "2              103.0  \n",
       "3              100.0  \n",
       "4              100.0  \n",
       "5               99.0  \n",
       "6              100.0  \n",
       "7              100.0  \n",
       "8              100.0  \n",
       "9              100.0  "
      ]
     },
     "execution_count": 2,
     "metadata": {},
     "output_type": "execute_result"
    }
   ],
   "source": [
    "# Load clean data CSV file created in Part 1 into a Pandas DataFrame\n",
    "df = pd.read_csv(\"../Resources/Diversity_in_tech_companies_clean_data.csv\")\n",
    "\n",
    "# Display sample data\n",
    "df.head(10)"
   ]
  },
  {
   "cell_type": "code",
   "execution_count": 3,
   "metadata": {},
   "outputs": [
    {
     "name": "stdout",
     "output_type": "stream",
     "text": [
      "(91, 14)\n",
      "<class 'pandas.core.frame.DataFrame'>\n",
      "RangeIndex: 91 entries, 0 to 90\n",
      "Data columns (total 14 columns):\n",
      " #   Column             Non-Null Count  Dtype  \n",
      "---  ------             --------------  -----  \n",
      " 0   Unnamed: 0         91 non-null     int64  \n",
      " 1   Year               91 non-null     int64  \n",
      " 2   Company            91 non-null     object \n",
      " 3   Female %           91 non-null     float64\n",
      " 4   Male %             91 non-null     float64\n",
      " 5   % White            91 non-null     float64\n",
      " 6   % Asian            91 non-null     float64\n",
      " 7   % Latino           91 non-null     float64\n",
      " 8   % Black            91 non-null     float64\n",
      " 9   % Multi            91 non-null     float64\n",
      " 10  % Other            91 non-null     float64\n",
      " 11  % Undeclared       91 non-null     float64\n",
      " 12  Gender Total %     91 non-null     float64\n",
      " 13  Diversity Total %  91 non-null     float64\n",
      "dtypes: float64(11), int64(2), object(1)\n",
      "memory usage: 10.1+ KB\n",
      "None\n",
      "       Unnamed: 0         Year   Female %     Male %    % White    % Asian  \\\n",
      "count   91.000000    91.000000  91.000000  91.000000  91.000000  91.000000   \n",
      "mean    46.000000  2016.142857  35.406593  64.571429  59.208791  22.637363   \n",
      "std     27.448943     1.434274   9.553333   9.570955   9.905685  11.994922   \n",
      "min      0.000000  2014.000000  16.000000  46.000000  37.000000   0.000000   \n",
      "25%     22.500000  2015.000000  29.000000  57.000000  52.500000  12.500000   \n",
      "50%     46.000000  2016.000000  36.000000  64.000000  60.000000  22.000000   \n",
      "75%     69.500000  2017.000000  43.000000  71.000000  66.000000  31.000000   \n",
      "max     93.000000  2018.000000  54.000000  84.000000  79.000000  45.000000   \n",
      "\n",
      "        % Latino    % Black    % Multi    % Other  % Undeclared  \\\n",
      "count  91.000000  91.000000  91.000000  91.000000     91.000000   \n",
      "mean    7.263736   5.461538   2.329670   1.241758      0.428571   \n",
      "std     4.057463   4.316139   3.283139   1.344459      1.795939   \n",
      "min     0.000000   0.000000   0.000000   0.000000      0.000000   \n",
      "25%     4.000000   2.000000   0.000000   0.000000      0.000000   \n",
      "50%     6.000000   4.000000   1.000000   1.000000      0.000000   \n",
      "75%     9.000000   8.000000   3.000000   2.000000      0.000000   \n",
      "max    19.000000  21.000000  14.000000   5.000000     13.000000   \n",
      "\n",
      "       Gender Total %  Diversity Total %  \n",
      "count       91.000000          91.000000  \n",
      "mean        99.978022          98.571429  \n",
      "std          0.209657           8.306815  \n",
      "min         99.000000          54.000000  \n",
      "25%        100.000000         100.000000  \n",
      "50%        100.000000         100.000000  \n",
      "75%        100.000000         100.000000  \n",
      "max        101.000000         103.000000  \n"
     ]
    }
   ],
   "source": [
    "# Examine data and datatypes\n",
    "print(df.shape)\n",
    "print(df.info())\n",
    "print(df.describe())"
   ]
  },
  {
   "cell_type": "markdown",
   "metadata": {},
   "source": [
    "## Standarize colors on all charts"
   ]
  },
  {
   "cell_type": "code",
   "execution_count": 4,
   "metadata": {},
   "outputs": [],
   "source": [
    "diversity_colors = {'% White':'#EC111A', \n",
    "          '% Asian':'#F2609E', \n",
    "          '% Black':'#FFD42F', \n",
    "          '% Latino':'#138468', \n",
    "          '% Multi':'#009DD6', \n",
    "          '% Other':'#FB6330', \n",
    "          '% Undeclared':'#7849B8'}\n",
    "gender_colors = ['lightblue', 'pink']"
   ]
  },
  {
   "cell_type": "code",
   "execution_count": 5,
   "metadata": {},
   "outputs": [
    {
     "data": {
      "text/html": [
       "<div>\n",
       "<style scoped>\n",
       "    .dataframe tbody tr th:only-of-type {\n",
       "        vertical-align: middle;\n",
       "    }\n",
       "\n",
       "    .dataframe tbody tr th {\n",
       "        vertical-align: top;\n",
       "    }\n",
       "\n",
       "    .dataframe thead th {\n",
       "        text-align: right;\n",
       "    }\n",
       "</style>\n",
       "<table border=\"1\" class=\"dataframe\">\n",
       "  <thead>\n",
       "    <tr style=\"text-align: right;\">\n",
       "      <th></th>\n",
       "      <th>Unnamed: 0</th>\n",
       "      <th>Year</th>\n",
       "      <th>Female %</th>\n",
       "      <th>Male %</th>\n",
       "      <th>% White</th>\n",
       "      <th>% Asian</th>\n",
       "      <th>% Latino</th>\n",
       "      <th>% Black</th>\n",
       "      <th>% Multi</th>\n",
       "      <th>% Other</th>\n",
       "      <th>% Undeclared</th>\n",
       "      <th>Gender Total %</th>\n",
       "      <th>Diversity Total %</th>\n",
       "    </tr>\n",
       "  </thead>\n",
       "  <tbody>\n",
       "    <tr>\n",
       "      <th>count</th>\n",
       "      <td>91.000000</td>\n",
       "      <td>91.000000</td>\n",
       "      <td>91.000000</td>\n",
       "      <td>91.000000</td>\n",
       "      <td>91.000000</td>\n",
       "      <td>91.000000</td>\n",
       "      <td>91.000000</td>\n",
       "      <td>91.000000</td>\n",
       "      <td>91.000000</td>\n",
       "      <td>91.000000</td>\n",
       "      <td>91.000000</td>\n",
       "      <td>91.000000</td>\n",
       "      <td>91.000000</td>\n",
       "    </tr>\n",
       "    <tr>\n",
       "      <th>mean</th>\n",
       "      <td>46.000000</td>\n",
       "      <td>2016.142857</td>\n",
       "      <td>35.406593</td>\n",
       "      <td>64.571429</td>\n",
       "      <td>59.208791</td>\n",
       "      <td>22.637363</td>\n",
       "      <td>7.263736</td>\n",
       "      <td>5.461538</td>\n",
       "      <td>2.329670</td>\n",
       "      <td>1.241758</td>\n",
       "      <td>0.428571</td>\n",
       "      <td>99.978022</td>\n",
       "      <td>98.571429</td>\n",
       "    </tr>\n",
       "    <tr>\n",
       "      <th>std</th>\n",
       "      <td>27.448943</td>\n",
       "      <td>1.434274</td>\n",
       "      <td>9.553333</td>\n",
       "      <td>9.570955</td>\n",
       "      <td>9.905685</td>\n",
       "      <td>11.994922</td>\n",
       "      <td>4.057463</td>\n",
       "      <td>4.316139</td>\n",
       "      <td>3.283139</td>\n",
       "      <td>1.344459</td>\n",
       "      <td>1.795939</td>\n",
       "      <td>0.209657</td>\n",
       "      <td>8.306815</td>\n",
       "    </tr>\n",
       "    <tr>\n",
       "      <th>min</th>\n",
       "      <td>0.000000</td>\n",
       "      <td>2014.000000</td>\n",
       "      <td>16.000000</td>\n",
       "      <td>46.000000</td>\n",
       "      <td>37.000000</td>\n",
       "      <td>0.000000</td>\n",
       "      <td>0.000000</td>\n",
       "      <td>0.000000</td>\n",
       "      <td>0.000000</td>\n",
       "      <td>0.000000</td>\n",
       "      <td>0.000000</td>\n",
       "      <td>99.000000</td>\n",
       "      <td>54.000000</td>\n",
       "    </tr>\n",
       "    <tr>\n",
       "      <th>25%</th>\n",
       "      <td>22.500000</td>\n",
       "      <td>2015.000000</td>\n",
       "      <td>29.000000</td>\n",
       "      <td>57.000000</td>\n",
       "      <td>52.500000</td>\n",
       "      <td>12.500000</td>\n",
       "      <td>4.000000</td>\n",
       "      <td>2.000000</td>\n",
       "      <td>0.000000</td>\n",
       "      <td>0.000000</td>\n",
       "      <td>0.000000</td>\n",
       "      <td>100.000000</td>\n",
       "      <td>100.000000</td>\n",
       "    </tr>\n",
       "    <tr>\n",
       "      <th>50%</th>\n",
       "      <td>46.000000</td>\n",
       "      <td>2016.000000</td>\n",
       "      <td>36.000000</td>\n",
       "      <td>64.000000</td>\n",
       "      <td>60.000000</td>\n",
       "      <td>22.000000</td>\n",
       "      <td>6.000000</td>\n",
       "      <td>4.000000</td>\n",
       "      <td>1.000000</td>\n",
       "      <td>1.000000</td>\n",
       "      <td>0.000000</td>\n",
       "      <td>100.000000</td>\n",
       "      <td>100.000000</td>\n",
       "    </tr>\n",
       "    <tr>\n",
       "      <th>75%</th>\n",
       "      <td>69.500000</td>\n",
       "      <td>2017.000000</td>\n",
       "      <td>43.000000</td>\n",
       "      <td>71.000000</td>\n",
       "      <td>66.000000</td>\n",
       "      <td>31.000000</td>\n",
       "      <td>9.000000</td>\n",
       "      <td>8.000000</td>\n",
       "      <td>3.000000</td>\n",
       "      <td>2.000000</td>\n",
       "      <td>0.000000</td>\n",
       "      <td>100.000000</td>\n",
       "      <td>100.000000</td>\n",
       "    </tr>\n",
       "    <tr>\n",
       "      <th>max</th>\n",
       "      <td>93.000000</td>\n",
       "      <td>2018.000000</td>\n",
       "      <td>54.000000</td>\n",
       "      <td>84.000000</td>\n",
       "      <td>79.000000</td>\n",
       "      <td>45.000000</td>\n",
       "      <td>19.000000</td>\n",
       "      <td>21.000000</td>\n",
       "      <td>14.000000</td>\n",
       "      <td>5.000000</td>\n",
       "      <td>13.000000</td>\n",
       "      <td>101.000000</td>\n",
       "      <td>103.000000</td>\n",
       "    </tr>\n",
       "  </tbody>\n",
       "</table>\n",
       "</div>"
      ],
      "text/plain": [
       "       Unnamed: 0         Year   Female %     Male %    % White    % Asian  \\\n",
       "count   91.000000    91.000000  91.000000  91.000000  91.000000  91.000000   \n",
       "mean    46.000000  2016.142857  35.406593  64.571429  59.208791  22.637363   \n",
       "std     27.448943     1.434274   9.553333   9.570955   9.905685  11.994922   \n",
       "min      0.000000  2014.000000  16.000000  46.000000  37.000000   0.000000   \n",
       "25%     22.500000  2015.000000  29.000000  57.000000  52.500000  12.500000   \n",
       "50%     46.000000  2016.000000  36.000000  64.000000  60.000000  22.000000   \n",
       "75%     69.500000  2017.000000  43.000000  71.000000  66.000000  31.000000   \n",
       "max     93.000000  2018.000000  54.000000  84.000000  79.000000  45.000000   \n",
       "\n",
       "        % Latino    % Black    % Multi    % Other  % Undeclared  \\\n",
       "count  91.000000  91.000000  91.000000  91.000000     91.000000   \n",
       "mean    7.263736   5.461538   2.329670   1.241758      0.428571   \n",
       "std     4.057463   4.316139   3.283139   1.344459      1.795939   \n",
       "min     0.000000   0.000000   0.000000   0.000000      0.000000   \n",
       "25%     4.000000   2.000000   0.000000   0.000000      0.000000   \n",
       "50%     6.000000   4.000000   1.000000   1.000000      0.000000   \n",
       "75%     9.000000   8.000000   3.000000   2.000000      0.000000   \n",
       "max    19.000000  21.000000  14.000000   5.000000     13.000000   \n",
       "\n",
       "       Gender Total %  Diversity Total %  \n",
       "count       91.000000          91.000000  \n",
       "mean        99.978022          98.571429  \n",
       "std          0.209657           8.306815  \n",
       "min         99.000000          54.000000  \n",
       "25%        100.000000         100.000000  \n",
       "50%        100.000000         100.000000  \n",
       "75%        100.000000         100.000000  \n",
       "max        101.000000         103.000000  "
      ]
     },
     "execution_count": 5,
     "metadata": {},
     "output_type": "execute_result"
    }
   ],
   "source": [
    "df.describe()"
   ]
  },
  {
   "cell_type": "markdown",
   "metadata": {},
   "source": [
    "## Statistical Testing - Gender"
   ]
  },
  {
   "cell_type": "code",
   "execution_count": 6,
   "metadata": {},
   "outputs": [
    {
     "name": "stdout",
     "output_type": "stream",
     "text": [
      "Female variance: 91.26617826617827\n",
      "Male variance: 91.60317460317455\n"
     ]
    }
   ],
   "source": [
    "print(f\"Female variance: {df['Female %'].var()}\")\n",
    "print(f\"Male variance: {df['Male %'].var()}\")"
   ]
  },
  {
   "cell_type": "code",
   "execution_count": 7,
   "metadata": {},
   "outputs": [
    {
     "data": {
      "image/png": "[encoded data removed]",
      "text/plain": [
       "<Figure size 1000x600 with 1 Axes>"
      ]
     },
     "metadata": {},
     "output_type": "display_data"
    }
   ],
   "source": [
    "# Comparason of gender using a violin plot\n",
    "# 1. Get the data\n",
    "gender_df = df[['Male %','Female %']]\n",
    "\n",
    "# 2. Make the canvas\n",
    "plt.figure(figsize=(10, 6))\n",
    "\n",
    "# 3. Plot the data\n",
    "sns.violinplot(data=gender_df, palette=gender_colors)\n",
    "plt.title('Average by gender')\n",
    "plt.ylabel(\"Percentage\")\n",
    "plt.ylim(0, 100)\n",
    "plt.xticks(rotation=45)\n",
    "plt.grid(linestyle='--', alpha=0.5, color='lightgray')\n",
    "\n",
    "# 4. Show/Save the plot\n",
    "plt.show()"
   ]
  },
  {
   "cell_type": "markdown",
   "metadata": {},
   "source": [
    "### Average comparison of gender across all years and all companies"
   ]
  },
  {
   "cell_type": "code",
   "execution_count": 8,
   "metadata": {},
   "outputs": [],
   "source": [
    "# FULL HYPOTHESIS\n",
    "\n",
    "# NULL: THERE IS NO DIFFERENCE BETWEEN MALES VS FEMALES WORKING IN TECH COMPANIES\n",
    "# ALTERNATIVE: THERE IS A DIFFERENCE BETWEEN MALES VS FEMALES WORKING IN TECH COMPANIES\n",
    "\n",
    "# BASED ON MY EXPECTATIONS - I EXPECT SIGNIFICANT DIFFERENCE BETWEEN MALES VS FEMALE WORKING IN TECH COMPANIES"
   ]
  },
  {
   "cell_type": "code",
   "execution_count": 9,
   "metadata": {},
   "outputs": [
    {
     "data": {
      "text/plain": [
       "TtestResult(statistic=20.573574726611028, pvalue=3.78484545338512e-49, df=179.9993887209176)"
      ]
     },
     "execution_count": 9,
     "metadata": {},
     "output_type": "execute_result"
    }
   ],
   "source": [
    "males = df['Male %']\n",
    "females = df['Female %']\n",
    "\n",
    "stats.ttest_ind(males, females, equal_var = False)"
   ]
  },
  {
   "cell_type": "code",
   "execution_count": 10,
   "metadata": {},
   "outputs": [],
   "source": [
    "# I REJECT THE NULL HYPOTHESIS AND ACCEPT THE ALTERNATIVE - THERE IS A SIGNIFICANT DIFFERENCE BETWEEN MALES AND FEMALE WORKING IN TECH COMPANIES"
   ]
  },
  {
   "cell_type": "markdown",
   "metadata": {},
   "source": [
    "## Statistical Testing - Diversity"
   ]
  },
  {
   "cell_type": "code",
   "execution_count": 11,
   "metadata": {},
   "outputs": [
    {
     "data": {
      "text/html": [
       "<div>\n",
       "<style scoped>\n",
       "    .dataframe tbody tr th:only-of-type {\n",
       "        vertical-align: middle;\n",
       "    }\n",
       "\n",
       "    .dataframe tbody tr th {\n",
       "        vertical-align: top;\n",
       "    }\n",
       "\n",
       "    .dataframe thead th {\n",
       "        text-align: right;\n",
       "    }\n",
       "</style>\n",
       "<table border=\"1\" class=\"dataframe\">\n",
       "  <thead>\n",
       "    <tr style=\"text-align: right;\">\n",
       "      <th></th>\n",
       "      <th>% White</th>\n",
       "      <th>% Asian</th>\n",
       "      <th>% Black</th>\n",
       "      <th>% Latino</th>\n",
       "      <th>% Multi</th>\n",
       "      <th>% Other</th>\n",
       "      <th>% Undeclared</th>\n",
       "    </tr>\n",
       "  </thead>\n",
       "  <tbody>\n",
       "    <tr>\n",
       "      <th>0</th>\n",
       "      <td>45.0</td>\n",
       "      <td>44.0</td>\n",
       "      <td>2.0</td>\n",
       "      <td>4.0</td>\n",
       "      <td>2.0</td>\n",
       "      <td>3.0</td>\n",
       "      <td>0.0</td>\n",
       "    </tr>\n",
       "    <tr>\n",
       "      <th>1</th>\n",
       "      <td>53.0</td>\n",
       "      <td>36.0</td>\n",
       "      <td>3.0</td>\n",
       "      <td>4.0</td>\n",
       "      <td>4.0</td>\n",
       "      <td>0.0</td>\n",
       "      <td>0.0</td>\n",
       "    </tr>\n",
       "    <tr>\n",
       "      <th>2</th>\n",
       "      <td>54.0</td>\n",
       "      <td>21.0</td>\n",
       "      <td>9.0</td>\n",
       "      <td>13.0</td>\n",
       "      <td>3.0</td>\n",
       "      <td>1.0</td>\n",
       "      <td>2.0</td>\n",
       "    </tr>\n",
       "    <tr>\n",
       "      <th>3</th>\n",
       "      <td>53.0</td>\n",
       "      <td>37.0</td>\n",
       "      <td>4.0</td>\n",
       "      <td>5.0</td>\n",
       "      <td>1.0</td>\n",
       "      <td>0.0</td>\n",
       "      <td>0.0</td>\n",
       "    </tr>\n",
       "    <tr>\n",
       "      <th>4</th>\n",
       "      <td>50.0</td>\n",
       "      <td>39.0</td>\n",
       "      <td>3.0</td>\n",
       "      <td>6.0</td>\n",
       "      <td>1.0</td>\n",
       "      <td>1.0</td>\n",
       "      <td>0.0</td>\n",
       "    </tr>\n",
       "  </tbody>\n",
       "</table>\n",
       "</div>"
      ],
      "text/plain": [
       "   % White  % Asian  % Black  % Latino  % Multi  % Other  % Undeclared\n",
       "0     45.0     44.0      2.0       4.0      2.0      3.0           0.0\n",
       "1     53.0     36.0      3.0       4.0      4.0      0.0           0.0\n",
       "2     54.0     21.0      9.0      13.0      3.0      1.0           2.0\n",
       "3     53.0     37.0      4.0       5.0      1.0      0.0           0.0\n",
       "4     50.0     39.0      3.0       6.0      1.0      1.0           0.0"
      ]
     },
     "execution_count": 11,
     "metadata": {},
     "output_type": "execute_result"
    }
   ],
   "source": [
    "diversity_df = df[['% White', '% Asian', '% Black', '% Latino', '% Multi', '% Other', '% Undeclared']]\n",
    "diversity_df.head()"
   ]
  },
  {
   "cell_type": "code",
   "execution_count": 12,
   "metadata": {},
   "outputs": [
    {
     "data": {
      "text/html": [
       "<div>\n",
       "<style scoped>\n",
       "    .dataframe tbody tr th:only-of-type {\n",
       "        vertical-align: middle;\n",
       "    }\n",
       "\n",
       "    .dataframe tbody tr th {\n",
       "        vertical-align: top;\n",
       "    }\n",
       "\n",
       "    .dataframe thead th {\n",
       "        text-align: right;\n",
       "    }\n",
       "</style>\n",
       "<table border=\"1\" class=\"dataframe\">\n",
       "  <thead>\n",
       "    <tr style=\"text-align: right;\">\n",
       "      <th></th>\n",
       "      <th>% White</th>\n",
       "      <th>% Asian</th>\n",
       "      <th>% Black</th>\n",
       "      <th>% Latino</th>\n",
       "      <th>% Multi</th>\n",
       "      <th>% Other</th>\n",
       "      <th>% Undeclared</th>\n",
       "    </tr>\n",
       "  </thead>\n",
       "  <tbody>\n",
       "    <tr>\n",
       "      <th>count</th>\n",
       "      <td>91.000000</td>\n",
       "      <td>91.000000</td>\n",
       "      <td>91.000000</td>\n",
       "      <td>91.000000</td>\n",
       "      <td>91.000000</td>\n",
       "      <td>91.000000</td>\n",
       "      <td>91.000000</td>\n",
       "    </tr>\n",
       "    <tr>\n",
       "      <th>mean</th>\n",
       "      <td>59.208791</td>\n",
       "      <td>22.637363</td>\n",
       "      <td>5.461538</td>\n",
       "      <td>7.263736</td>\n",
       "      <td>2.329670</td>\n",
       "      <td>1.241758</td>\n",
       "      <td>0.428571</td>\n",
       "    </tr>\n",
       "    <tr>\n",
       "      <th>std</th>\n",
       "      <td>9.905685</td>\n",
       "      <td>11.994922</td>\n",
       "      <td>4.316139</td>\n",
       "      <td>4.057463</td>\n",
       "      <td>3.283139</td>\n",
       "      <td>1.344459</td>\n",
       "      <td>1.795939</td>\n",
       "    </tr>\n",
       "    <tr>\n",
       "      <th>min</th>\n",
       "      <td>37.000000</td>\n",
       "      <td>0.000000</td>\n",
       "      <td>0.000000</td>\n",
       "      <td>0.000000</td>\n",
       "      <td>0.000000</td>\n",
       "      <td>0.000000</td>\n",
       "      <td>0.000000</td>\n",
       "    </tr>\n",
       "    <tr>\n",
       "      <th>25%</th>\n",
       "      <td>52.500000</td>\n",
       "      <td>12.500000</td>\n",
       "      <td>2.000000</td>\n",
       "      <td>4.000000</td>\n",
       "      <td>0.000000</td>\n",
       "      <td>0.000000</td>\n",
       "      <td>0.000000</td>\n",
       "    </tr>\n",
       "    <tr>\n",
       "      <th>50%</th>\n",
       "      <td>60.000000</td>\n",
       "      <td>22.000000</td>\n",
       "      <td>4.000000</td>\n",
       "      <td>6.000000</td>\n",
       "      <td>1.000000</td>\n",
       "      <td>1.000000</td>\n",
       "      <td>0.000000</td>\n",
       "    </tr>\n",
       "    <tr>\n",
       "      <th>75%</th>\n",
       "      <td>66.000000</td>\n",
       "      <td>31.000000</td>\n",
       "      <td>8.000000</td>\n",
       "      <td>9.000000</td>\n",
       "      <td>3.000000</td>\n",
       "      <td>2.000000</td>\n",
       "      <td>0.000000</td>\n",
       "    </tr>\n",
       "    <tr>\n",
       "      <th>max</th>\n",
       "      <td>79.000000</td>\n",
       "      <td>45.000000</td>\n",
       "      <td>21.000000</td>\n",
       "      <td>19.000000</td>\n",
       "      <td>14.000000</td>\n",
       "      <td>5.000000</td>\n",
       "      <td>13.000000</td>\n",
       "    </tr>\n",
       "  </tbody>\n",
       "</table>\n",
       "</div>"
      ],
      "text/plain": [
       "         % White    % Asian    % Black   % Latino    % Multi    % Other  \\\n",
       "count  91.000000  91.000000  91.000000  91.000000  91.000000  91.000000   \n",
       "mean   59.208791  22.637363   5.461538   7.263736   2.329670   1.241758   \n",
       "std     9.905685  11.994922   4.316139   4.057463   3.283139   1.344459   \n",
       "min    37.000000   0.000000   0.000000   0.000000   0.000000   0.000000   \n",
       "25%    52.500000  12.500000   2.000000   4.000000   0.000000   0.000000   \n",
       "50%    60.000000  22.000000   4.000000   6.000000   1.000000   1.000000   \n",
       "75%    66.000000  31.000000   8.000000   9.000000   3.000000   2.000000   \n",
       "max    79.000000  45.000000  21.000000  19.000000  14.000000   5.000000   \n",
       "\n",
       "       % Undeclared  \n",
       "count     91.000000  \n",
       "mean       0.428571  \n",
       "std        1.795939  \n",
       "min        0.000000  \n",
       "25%        0.000000  \n",
       "50%        0.000000  \n",
       "75%        0.000000  \n",
       "max       13.000000  "
      ]
     },
     "execution_count": 12,
     "metadata": {},
     "output_type": "execute_result"
    }
   ],
   "source": [
    "diversity_df.describe()"
   ]
  },
  {
   "cell_type": "code",
   "execution_count": 13,
   "metadata": {},
   "outputs": [
    {
     "name": "stdout",
     "output_type": "stream",
     "text": [
      "White variance: 98.12258852258854\n",
      "Asian variance: 143.87814407814403\n",
      "Black variance: 18.629059829059834\n",
      "Latino variance: 16.463003663003658\n",
      "Multi variance: 10.77899877899878\n",
      "Other variance: 1.807570207570206\n",
      "Undeclared variance: 3.22539682539682\n"
     ]
    }
   ],
   "source": [
    "print(f\"White variance: {df['% White'].var()}\")\n",
    "print(f\"Asian variance: {df['% Asian'].var()}\")\n",
    "print(f\"Black variance: {df['% Black'].var()}\")\n",
    "print(f\"Latino variance: {df['% Latino'].var()}\")\n",
    "print(f\"Multi variance: {df['% Multi'].var()}\")\n",
    "print(f\"Other variance: {df['% Other'].var()}\")\n",
    "print(f\"Undeclared variance: {df['% Undeclared'].var()}\")"
   ]
  },
  {
   "cell_type": "code",
   "execution_count": 14,
   "metadata": {},
   "outputs": [
    {
     "data": {
      "text/plain": [
       "dict_values(['#EC111A', '#F2609E', '#FFD42F', '#138468', '#009DD6', '#FB6330', '#7849B8'])"
      ]
     },
     "execution_count": 14,
     "metadata": {},
     "output_type": "execute_result"
    }
   ],
   "source": [
    "diversity_colors_lst = diversity_colors.values()\n",
    "diversity_colors_lst"
   ]
  },
  {
   "cell_type": "code",
   "execution_count": 15,
   "metadata": {},
   "outputs": [
    {
     "data": {
      "image/png": "[encoded data removed]",
      "text/plain": [
       "<Figure size 1000x600 with 1 Axes>"
      ]
     },
     "metadata": {},
     "output_type": "display_data"
    }
   ],
   "source": [
    "# Comparason of diversity using a violin plot\n",
    "# 1. Get the data\n",
    "## Using the diversity_df dataframe created above\n",
    "\n",
    "# 2. Make the canvas\n",
    "plt.figure(figsize=(10, 6))\n",
    "\n",
    "# 3. Plot the data\n",
    "sns.violinplot(data=diversity_df, palette=diversity_colors_lst)\n",
    "plt.title('Average by diversity')\n",
    "plt.ylabel(\"Percentage\")\n",
    "#plt.ylim(-10, 100)\n",
    "plt.grid(linestyle='--', alpha=0.5, color='lightgray')\n",
    "\n",
    "# 4. Show/Save the plot\n",
    "plt.show()"
   ]
  },
  {
   "cell_type": "markdown",
   "metadata": {},
   "source": [
    "### Average comparison of diversity across all years and all companies"
   ]
  },
  {
   "cell_type": "code",
   "execution_count": 16,
   "metadata": {},
   "outputs": [],
   "source": [
    "# FULL HYPOTHESIS\n",
    "\n",
    "# NULL: THERE IS NO DIFFERENCE OF AVERAGES BETWEEN ANY DIVERSITY GROUP\n",
    "# ALTERNATIVE: THERE IS AT LEAST ONE DIFFERENCE BETWEEN DIVERSITY GROUPS"
   ]
  },
  {
   "cell_type": "code",
   "execution_count": 17,
   "metadata": {},
   "outputs": [
    {
     "data": {
      "text/plain": [
       "F_onewayResult(statistic=985.8325475532455, pvalue=2.47133054e-316)"
      ]
     },
     "execution_count": 17,
     "metadata": {},
     "output_type": "execute_result"
    }
   ],
   "source": [
    "# Performe the ANOVA test\n",
    "stats.f_oneway(diversity_df['% White'], \n",
    "               diversity_df['% Asian'], \n",
    "               diversity_df['% Black'], \n",
    "               diversity_df['% Latino'], \n",
    "               diversity_df['% Multi'], \n",
    "               diversity_df['% Other'], \n",
    "               diversity_df['% Undeclared']\n",
    "               )"
   ]
  },
  {
   "cell_type": "code",
   "execution_count": 18,
   "metadata": {},
   "outputs": [],
   "source": [
    "# WE REJECT THE NULL AND ACCEPT THE ALTERNATIVE - AT LEAST ONE DIVERSITY GROUP IS DIFFERENT"
   ]
  },
  {
   "cell_type": "code",
   "execution_count": 19,
   "metadata": {},
   "outputs": [
    {
     "name": "stdout",
     "output_type": "stream",
     "text": [
      "White vs Asian: TtestResult(statistic=22.426127199064165, pvalue=3.4974324485005776e-53, df=173.78741107942048)\n",
      "White vs Black: TtestResult(statistic=47.45100949423269, pvalue=6.374334017920352e-81, df=122.98495278778121)\n",
      "White vs Latino: TtestResult(statistic=46.29135565132039, pvalue=4.13282193180125e-78, df=119.3735241720709)\n",
      "White vs Multi: TtestResult(statistic=51.99438750290772, pvalue=4.870119400677852e-79, df=109.537654889487)\n",
      "White vs Other: TtestResult(statistic=55.316345330041564, pvalue=3.910652332452989e-73, df=93.31475419432466)\n",
      "White vs Undeclared: TtestResult(statistic=55.69860802269435, pvalue=7.557267383459079e-75, df=95.9104106591678)\n"
     ]
    }
   ],
   "source": [
    "print(f\"White vs Asian: {stats.ttest_ind(diversity_df['% White'], diversity_df['% Asian'], equal_var = False)}\")\n",
    "print(f\"White vs Black: {stats.ttest_ind(diversity_df['% White'], diversity_df['% Black'], equal_var = False)}\")\n",
    "print(f\"White vs Latino: {stats.ttest_ind(diversity_df['% White'], diversity_df['% Latino'], equal_var = False)}\")\n",
    "print(f\"White vs Multi: {stats.ttest_ind(diversity_df['% White'], diversity_df['% Multi'], equal_var = False)}\")\n",
    "print(f\"White vs Other: {stats.ttest_ind(diversity_df['% White'], diversity_df['% Other'], equal_var = False)}\")\n",
    "print(f\"White vs Undeclared: {stats.ttest_ind(diversity_df['% White'], diversity_df['% Undeclared'], equal_var = False)}\")"
   ]
  },
  {
   "cell_type": "code",
   "execution_count": 20,
   "metadata": {},
   "outputs": [
    {
     "name": "stdout",
     "output_type": "stream",
     "text": [
      "Asian vs Black: TtestResult(statistic=12.852924987195221, pvalue=7.644253536628321e-24, df=112.92177336927801)\n",
      "Asian vs Latino: TtestResult(statistic=11.581759018419703, pvalue=8.827328477772503e-21, df=110.3300092458146)\n",
      "Asian vs Multi: TtestResult(statistic=15.577446894105972, pvalue=6.992841235175281e-29, df=103.40989499464588)\n",
      "Asian vs Other: TtestResult(statistic=16.909733828894062, pvalue=5.166342130749162e-30, df=92.26101951932218)\n",
      "Asian vs Undeclared: TtestResult(statistic=17.467632811843643, pvalue=2.8276886801936257e-31, df=94.03313383302206)\n"
     ]
    }
   ],
   "source": [
    "print(f\"Asian vs Black: {stats.ttest_ind(diversity_df['% Asian'], diversity_df['% Black'], equal_var = False)}\")\n",
    "print(f\"Asian vs Latino: {stats.ttest_ind(diversity_df['% Asian'], diversity_df['% Latino'], equal_var = False)}\")\n",
    "print(f\"Asian vs Multi: {stats.ttest_ind(diversity_df['% Asian'], diversity_df['% Multi'], equal_var = False)}\")\n",
    "print(f\"Asian vs Other: {stats.ttest_ind(diversity_df['% Asian'], diversity_df['% Other'], equal_var = False)}\")\n",
    "print(f\"Asian vs Undeclared: {stats.ttest_ind(diversity_df['% Asian'], diversity_df['% Undeclared'], equal_var = False)}\")"
   ]
  },
  {
   "cell_type": "code",
   "execution_count": 21,
   "metadata": {},
   "outputs": [
    {
     "name": "stdout",
     "output_type": "stream",
     "text": [
      "Black vs Latino: TtestResult(statistic=-2.9021422691618346, pvalue=0.004171105579260181, df=179.31680824799332)\n",
      "Black vs Multi: TtestResult(statistic=5.509231046627633, pvalue=1.3317013546634914e-07, df=168.02727152668047)\n",
      "Black vs Other: TtestResult(statistic=8.904425131520638, pvalue=1.4956780083145585e-14, df=107.30242991242221)\n",
      "Black vs Undeclared: TtestResult(statistic=10.270102429424778, pvalue=3.7853392676111054e-18, df=120.25779691951077)\n"
     ]
    }
   ],
   "source": [
    "print(f\"Black vs Latino: {stats.ttest_ind(diversity_df['% Black'], diversity_df['% Latino'], equal_var = False)}\")\n",
    "print(f\"Black vs Multi: {stats.ttest_ind(diversity_df['% Black'], diversity_df['% Multi'], equal_var = False)}\")\n",
    "print(f\"Black vs Other: {stats.ttest_ind(diversity_df['% Black'], diversity_df['% Other'], equal_var = False)}\")\n",
    "print(f\"Black vs Undeclared: {stats.ttest_ind(diversity_df['% Black'], diversity_df['% Undeclared'], equal_var = False)}\")"
   ]
  },
  {
   "cell_type": "code",
   "execution_count": 22,
   "metadata": {},
   "outputs": [
    {
     "name": "stdout",
     "output_type": "stream",
     "text": [
      "Latino vs Multi: TtestResult(statistic=9.017914867341968, pvalue=3.608912970795619e-16, df=172.49074872237733)\n",
      "Latino vs Other: TtestResult(statistic=13.439520313134684, pvalue=6.477281620974978e-25, df=109.52785001293975)\n",
      "Latino vs Undeclared: TtestResult(statistic=14.69482678067052, pvalue=6.301597651996616e-29, df=123.96164151053163)\n"
     ]
    }
   ],
   "source": [
    "print(f\"Latino vs Multi: {stats.ttest_ind(diversity_df['% Latino'], diversity_df['% Multi'], equal_var = False)}\")\n",
    "print(f\"Latino vs Other: {stats.ttest_ind(diversity_df['% Latino'], diversity_df['% Other'], equal_var = False)}\")\n",
    "print(f\"Latino vs Undeclared: {stats.ttest_ind(diversity_df['% Latino'], diversity_df['% Undeclared'], equal_var = False)}\")"
   ]
  },
  {
   "cell_type": "code",
   "execution_count": 23,
   "metadata": {},
   "outputs": [
    {
     "name": "stdout",
     "output_type": "stream",
     "text": [
      "Multi vs Other: TtestResult(statistic=2.92523538481525, pvalue=0.004120717814921395, df=119.35924965926462)\n",
      "Multi vs Undeclared: TtestResult(statistic=4.846109485972371, pvalue=3.3103904655276187e-06, df=139.43501659992066)\n"
     ]
    }
   ],
   "source": [
    "print(f\"Multi vs Other: {stats.ttest_ind(diversity_df['% Multi'], diversity_df['% Other'], equal_var = False)}\")\n",
    "print(f\"Multi vs Undeclared: {stats.ttest_ind(diversity_df['% Multi'], diversity_df['% Undeclared'], equal_var = False)}\")"
   ]
  },
  {
   "cell_type": "code",
   "execution_count": 24,
   "metadata": {},
   "outputs": [
    {
     "name": "stdout",
     "output_type": "stream",
     "text": [
      "Other vs Undeclared: TtestResult(statistic=3.457792920018384, pvalue=0.0006911859728477218, df=166.76559172686433)\n"
     ]
    }
   ],
   "source": [
    "print(f\"Other vs Undeclared: {stats.ttest_ind(diversity_df['% Other'], diversity_df['% Undeclared'], equal_var = False)}\")"
   ]
  },
  {
   "cell_type": "code",
   "execution_count": null,
   "metadata": {},
   "outputs": [],
   "source": []
  }
 ],
 "metadata": {
  "kernelspec": {
   "display_name": "dev",
   "language": "python",
   "name": "python3"
  },
  "language_info": {
   "codemirror_mode": {
    "name": "ipython",
    "version": 3
   },
   "file_extension": ".py",
   "mimetype": "text/x-python",
   "name": "python",
   "nbconvert_exporter": "python",
   "pygments_lexer": "ipython3",
   "version": "3.10.14"
  }
 },
 "nbformat": 4,
 "nbformat_minor": 2
}
